{
  "nbformat": 4,
  "nbformat_minor": 0,
  "metadata": {
    "colab": {
      "name": "lesson4-tabular.ipynb",
      "version": "0.3.2",
      "provenance": [],
      "toc_visible": true
    },
    "kernelspec": {
      "name": "python3",
      "display_name": "Python 3"
    },
    "accelerator": "GPU"
  },
  "cells": [
    {
      "metadata": {
        "id": "XlEa1MHR2En5",
        "colab_type": "text"
      },
      "cell_type": "markdown",
      "source": [
        "# Tabular models"
      ]
    },
    {
      "metadata": {
        "id": "d2P1-cFW2EoB",
        "colab_type": "code",
        "colab": {}
      },
      "cell_type": "code",
      "source": [
        "from fastai.tabular import *"
      ],
      "execution_count": 0,
      "outputs": []
    },
    {
      "metadata": {
        "id": "EM4PP0Rc3Abc",
        "colab_type": "code",
        "colab": {
          "base_uri": "https://localhost:8080/",
          "height": 35
        },
        "outputId": "b73c476c-be82-4b4e-dbe1-89575e909b40"
      },
      "cell_type": "code",
      "source": [
        "from google.colab import drive\n",
        "drive.mount('/content/gdrive', force_remount=True)\n",
        "root_dir = \"/content/gdrive/My Drive/\"\n",
        "base_dir = root_dir + 'fastai-v3/'\n"
      ],
      "execution_count": 33,
      "outputs": [
        {
          "output_type": "stream",
          "text": [
            "Mounted at /content/gdrive\n"
          ],
          "name": "stdout"
        }
      ]
    },
    {
      "metadata": {
        "id": "zNgsj2hQNZrX",
        "colab_type": "code",
        "colab": {
          "base_uri": "https://localhost:8080/",
          "height": 54
        },
        "outputId": "0cd59e4f-64f8-4ae8-845d-c7ec5058fe9f"
      },
      "cell_type": "code",
      "source": [
        "!ls \"/content/gdrive/My Drive/Colab Notebooks/data/Dataset/\""
      ],
      "execution_count": 34,
      "outputs": [
        {
          "output_type": "stream",
          "text": [
            "Building_Ownership_Use.csv  final_train.csv  train.csv\n",
            "Building_Structure.csv\t    test.csv\n"
          ],
          "name": "stdout"
        }
      ]
    },
    {
      "metadata": {
        "id": "7DqwYArC2EoP",
        "colab_type": "text"
      },
      "cell_type": "markdown",
      "source": [
        "Tabular data should be in a Pandas `DataFrame`."
      ]
    },
    {
      "metadata": {
        "id": "qAsTLLGu2EoT",
        "colab_type": "code",
        "colab": {
          "base_uri": "https://localhost:8080/",
          "height": 273
        },
        "outputId": "2a4ceffc-e35e-486d-c6d8-b27513f59501"
      },
      "cell_type": "code",
      "source": [
        "#path = untar_data(URLs.ADULT_SAMPLE)\n",
        "df = pd.read_csv(\"/content/gdrive/My Drive/Colab Notebooks/data/Dataset/final_train.csv\")\n",
        "df.head()"
      ],
      "execution_count": 35,
      "outputs": [
        {
          "output_type": "execute_result",
          "data": {
            "text/html": [
              "<div>\n",
              "<style scoped>\n",
              "    .dataframe tbody tr th:only-of-type {\n",
              "        vertical-align: middle;\n",
              "    }\n",
              "\n",
              "    .dataframe tbody tr th {\n",
              "        vertical-align: top;\n",
              "    }\n",
              "\n",
              "    .dataframe thead th {\n",
              "        text-align: right;\n",
              "    }\n",
              "</style>\n",
              "<table border=\"1\" class=\"dataframe\">\n",
              "  <thead>\n",
              "    <tr style=\"text-align: right;\">\n",
              "      <th></th>\n",
              "      <th>Unnamed: 0</th>\n",
              "      <th>building_id</th>\n",
              "      <th>district_id</th>\n",
              "      <th>vdcmun_id</th>\n",
              "      <th>ward_id</th>\n",
              "      <th>legal_ownership_status</th>\n",
              "      <th>count_families</th>\n",
              "      <th>has_secondary_use</th>\n",
              "      <th>has_secondary_use_agriculture</th>\n",
              "      <th>has_secondary_use_hotel</th>\n",
              "      <th>...</th>\n",
              "      <th>damage_grade</th>\n",
              "      <th>has_geotechnical_risk</th>\n",
              "      <th>has_geotechnical_risk_fault_crack</th>\n",
              "      <th>has_geotechnical_risk_flood</th>\n",
              "      <th>has_geotechnical_risk_land_settlement</th>\n",
              "      <th>has_geotechnical_risk_landslide</th>\n",
              "      <th>has_geotechnical_risk_liquefaction</th>\n",
              "      <th>has_geotechnical_risk_other</th>\n",
              "      <th>has_geotechnical_risk_rock_fall</th>\n",
              "      <th>has_repair_started</th>\n",
              "    </tr>\n",
              "  </thead>\n",
              "  <tbody>\n",
              "    <tr>\n",
              "      <th>0</th>\n",
              "      <td>0</td>\n",
              "      <td>a3380c4fd9</td>\n",
              "      <td>7</td>\n",
              "      <td>701</td>\n",
              "      <td>70102</td>\n",
              "      <td>Private</td>\n",
              "      <td>1.0</td>\n",
              "      <td>0.0</td>\n",
              "      <td>0</td>\n",
              "      <td>0</td>\n",
              "      <td>...</td>\n",
              "      <td>Grade 2</td>\n",
              "      <td>0.0</td>\n",
              "      <td>0</td>\n",
              "      <td>0</td>\n",
              "      <td>0</td>\n",
              "      <td>0</td>\n",
              "      <td>0</td>\n",
              "      <td>0</td>\n",
              "      <td>0</td>\n",
              "      <td>1.0</td>\n",
              "    </tr>\n",
              "    <tr>\n",
              "      <th>1</th>\n",
              "      <td>1</td>\n",
              "      <td>a3380c503e</td>\n",
              "      <td>7</td>\n",
              "      <td>701</td>\n",
              "      <td>70102</td>\n",
              "      <td>Private</td>\n",
              "      <td>1.0</td>\n",
              "      <td>0.0</td>\n",
              "      <td>0</td>\n",
              "      <td>0</td>\n",
              "      <td>...</td>\n",
              "      <td>Grade 3</td>\n",
              "      <td>0.0</td>\n",
              "      <td>0</td>\n",
              "      <td>0</td>\n",
              "      <td>0</td>\n",
              "      <td>0</td>\n",
              "      <td>0</td>\n",
              "      <td>0</td>\n",
              "      <td>0</td>\n",
              "      <td>1.0</td>\n",
              "    </tr>\n",
              "    <tr>\n",
              "      <th>2</th>\n",
              "      <td>2</td>\n",
              "      <td>a338a4e5f2</td>\n",
              "      <td>7</td>\n",
              "      <td>701</td>\n",
              "      <td>70103</td>\n",
              "      <td>Private</td>\n",
              "      <td>1.0</td>\n",
              "      <td>0.0</td>\n",
              "      <td>0</td>\n",
              "      <td>0</td>\n",
              "      <td>...</td>\n",
              "      <td>Grade 3</td>\n",
              "      <td>0.0</td>\n",
              "      <td>0</td>\n",
              "      <td>0</td>\n",
              "      <td>0</td>\n",
              "      <td>0</td>\n",
              "      <td>0</td>\n",
              "      <td>0</td>\n",
              "      <td>0</td>\n",
              "      <td>1.0</td>\n",
              "    </tr>\n",
              "    <tr>\n",
              "      <th>3</th>\n",
              "      <td>3</td>\n",
              "      <td>a338a4e71f</td>\n",
              "      <td>7</td>\n",
              "      <td>701</td>\n",
              "      <td>70103</td>\n",
              "      <td>Private</td>\n",
              "      <td>1.0</td>\n",
              "      <td>0.0</td>\n",
              "      <td>0</td>\n",
              "      <td>0</td>\n",
              "      <td>...</td>\n",
              "      <td>Grade 4</td>\n",
              "      <td>0.0</td>\n",
              "      <td>0</td>\n",
              "      <td>0</td>\n",
              "      <td>0</td>\n",
              "      <td>0</td>\n",
              "      <td>0</td>\n",
              "      <td>0</td>\n",
              "      <td>0</td>\n",
              "      <td>1.0</td>\n",
              "    </tr>\n",
              "    <tr>\n",
              "      <th>4</th>\n",
              "      <td>4</td>\n",
              "      <td>a339d612f3</td>\n",
              "      <td>7</td>\n",
              "      <td>701</td>\n",
              "      <td>70105</td>\n",
              "      <td>Private</td>\n",
              "      <td>1.0</td>\n",
              "      <td>0.0</td>\n",
              "      <td>0</td>\n",
              "      <td>0</td>\n",
              "      <td>...</td>\n",
              "      <td>Grade 3</td>\n",
              "      <td>0.0</td>\n",
              "      <td>0</td>\n",
              "      <td>0</td>\n",
              "      <td>0</td>\n",
              "      <td>0</td>\n",
              "      <td>0</td>\n",
              "      <td>0</td>\n",
              "      <td>0</td>\n",
              "      <td>1.0</td>\n",
              "    </tr>\n",
              "  </tbody>\n",
              "</table>\n",
              "<p>5 rows × 54 columns</p>\n",
              "</div>"
            ],
            "text/plain": [
              "   Unnamed: 0 building_id  district_id  vdcmun_id  ward_id  \\\n",
              "0           0  a3380c4fd9            7        701    70102   \n",
              "1           1  a3380c503e            7        701    70102   \n",
              "2           2  a338a4e5f2            7        701    70103   \n",
              "3           3  a338a4e71f            7        701    70103   \n",
              "4           4  a339d612f3            7        701    70105   \n",
              "\n",
              "  legal_ownership_status  count_families  has_secondary_use  \\\n",
              "0                Private             1.0                0.0   \n",
              "1                Private             1.0                0.0   \n",
              "2                Private             1.0                0.0   \n",
              "3                Private             1.0                0.0   \n",
              "4                Private             1.0                0.0   \n",
              "\n",
              "   has_secondary_use_agriculture  has_secondary_use_hotel         ...          \\\n",
              "0                              0                        0         ...           \n",
              "1                              0                        0         ...           \n",
              "2                              0                        0         ...           \n",
              "3                              0                        0         ...           \n",
              "4                              0                        0         ...           \n",
              "\n",
              "   damage_grade  has_geotechnical_risk  has_geotechnical_risk_fault_crack  \\\n",
              "0       Grade 2                    0.0                                  0   \n",
              "1       Grade 3                    0.0                                  0   \n",
              "2       Grade 3                    0.0                                  0   \n",
              "3       Grade 4                    0.0                                  0   \n",
              "4       Grade 3                    0.0                                  0   \n",
              "\n",
              "   has_geotechnical_risk_flood  has_geotechnical_risk_land_settlement  \\\n",
              "0                            0                                      0   \n",
              "1                            0                                      0   \n",
              "2                            0                                      0   \n",
              "3                            0                                      0   \n",
              "4                            0                                      0   \n",
              "\n",
              "   has_geotechnical_risk_landslide  has_geotechnical_risk_liquefaction  \\\n",
              "0                                0                                   0   \n",
              "1                                0                                   0   \n",
              "2                                0                                   0   \n",
              "3                                0                                   0   \n",
              "4                                0                                   0   \n",
              "\n",
              "   has_geotechnical_risk_other  has_geotechnical_risk_rock_fall  \\\n",
              "0                            0                                0   \n",
              "1                            0                                0   \n",
              "2                            0                                0   \n",
              "3                            0                                0   \n",
              "4                            0                                0   \n",
              "\n",
              "   has_repair_started  \n",
              "0                 1.0  \n",
              "1                 1.0  \n",
              "2                 1.0  \n",
              "3                 1.0  \n",
              "4                 1.0  \n",
              "\n",
              "[5 rows x 54 columns]"
            ]
          },
          "metadata": {
            "tags": []
          },
          "execution_count": 35
        }
      ]
    },
    {
      "metadata": {
        "id": "oc1-C_NjOEuF",
        "colab_type": "code",
        "colab": {}
      },
      "cell_type": "code",
      "source": [
        "df = df.drop(['Unnamed: 0'], axis=1)\n",
        "df = df.drop(['building_id'], axis=1)"
      ],
      "execution_count": 0,
      "outputs": []
    },
    {
      "metadata": {
        "id": "omKc9NYLOLKu",
        "colab_type": "code",
        "colab": {
          "base_uri": "https://localhost:8080/",
          "height": 458
        },
        "outputId": "ab16cd2e-e805-4c88-ec0c-b361541887a2"
      },
      "cell_type": "code",
      "source": [
        "df.columns"
      ],
      "execution_count": 37,
      "outputs": [
        {
          "output_type": "execute_result",
          "data": {
            "text/plain": [
              "Index(['district_id', 'vdcmun_id', 'ward_id', 'legal_ownership_status',\n",
              "       'count_families', 'has_secondary_use', 'has_secondary_use_agriculture',\n",
              "       'has_secondary_use_hotel', 'has_secondary_use_rental',\n",
              "       'has_secondary_use_institution', 'has_secondary_use_school',\n",
              "       'has_secondary_use_industry', 'has_secondary_use_health_post',\n",
              "       'has_secondary_use_gov_office', 'has_secondary_use_use_police',\n",
              "       'has_secondary_use_other', 'count_floors_pre_eq',\n",
              "       'count_floors_post_eq', 'age_building', 'plinth_area_sq_ft',\n",
              "       'height_ft_pre_eq', 'height_ft_post_eq', 'land_surface_condition',\n",
              "       'foundation_type', 'roof_type', 'ground_floor_type', 'other_floor_type',\n",
              "       'position', 'plan_configuration', 'has_superstructure_adobe_mud',\n",
              "       'has_superstructure_mud_mortar_stone', 'has_superstructure_stone_flag',\n",
              "       'has_superstructure_cement_mortar_stone',\n",
              "       'has_superstructure_mud_mortar_brick',\n",
              "       'has_superstructure_cement_mortar_brick', 'has_superstructure_timber',\n",
              "       'has_superstructure_bamboo', 'has_superstructure_rc_non_engineered',\n",
              "       'has_superstructure_rc_engineered', 'has_superstructure_other',\n",
              "       'condition_post_eq', 'area_assesed', 'damage_grade',\n",
              "       'has_geotechnical_risk', 'has_geotechnical_risk_fault_crack',\n",
              "       'has_geotechnical_risk_flood', 'has_geotechnical_risk_land_settlement',\n",
              "       'has_geotechnical_risk_landslide', 'has_geotechnical_risk_liquefaction',\n",
              "       'has_geotechnical_risk_other', 'has_geotechnical_risk_rock_fall',\n",
              "       'has_repair_started'],\n",
              "      dtype='object')"
            ]
          },
          "metadata": {
            "tags": []
          },
          "execution_count": 37
        }
      ]
    },
    {
      "metadata": {
        "id": "CTOKP97BOP6X",
        "colab_type": "code",
        "colab": {}
      },
      "cell_type": "code",
      "source": [
        "from sklearn.utils import shuffle"
      ],
      "execution_count": 0,
      "outputs": []
    },
    {
      "metadata": {
        "id": "_0Q1NJPTOVOJ",
        "colab_type": "code",
        "colab": {}
      },
      "cell_type": "code",
      "source": [
        "df = shuffle(df)"
      ],
      "execution_count": 0,
      "outputs": []
    },
    {
      "metadata": {
        "id": "uGRXWn6AOb1C",
        "colab_type": "code",
        "colab": {
          "base_uri": "https://localhost:8080/",
          "height": 1064
        },
        "outputId": "afa4f7c1-3f71-46bd-a926-f8b091ff0dc8"
      },
      "cell_type": "code",
      "source": [
        "df.info()"
      ],
      "execution_count": 40,
      "outputs": [
        {
          "output_type": "stream",
          "text": [
            "<class 'pandas.core.frame.DataFrame'>\n",
            "Int64Index: 631761 entries, 279357 to 355234\n",
            "Data columns (total 52 columns):\n",
            "district_id                               631761 non-null int64\n",
            "vdcmun_id                                 631761 non-null int64\n",
            "ward_id                                   631761 non-null int64\n",
            "legal_ownership_status                    631761 non-null object\n",
            "count_families                            631760 non-null float64\n",
            "has_secondary_use                         631761 non-null float64\n",
            "has_secondary_use_agriculture             631761 non-null int64\n",
            "has_secondary_use_hotel                   631761 non-null int64\n",
            "has_secondary_use_rental                  631761 non-null int64\n",
            "has_secondary_use_institution             631761 non-null int64\n",
            "has_secondary_use_school                  631761 non-null int64\n",
            "has_secondary_use_industry                631761 non-null int64\n",
            "has_secondary_use_health_post             631761 non-null int64\n",
            "has_secondary_use_gov_office              631761 non-null int64\n",
            "has_secondary_use_use_police              631761 non-null int64\n",
            "has_secondary_use_other                   631761 non-null int64\n",
            "count_floors_pre_eq                       631761 non-null int64\n",
            "count_floors_post_eq                      631761 non-null int64\n",
            "age_building                              631761 non-null int64\n",
            "plinth_area_sq_ft                         631761 non-null int64\n",
            "height_ft_pre_eq                          631761 non-null int64\n",
            "height_ft_post_eq                         631761 non-null int64\n",
            "land_surface_condition                    631761 non-null object\n",
            "foundation_type                           631761 non-null object\n",
            "roof_type                                 631761 non-null object\n",
            "ground_floor_type                         631761 non-null object\n",
            "other_floor_type                          631761 non-null object\n",
            "position                                  631761 non-null object\n",
            "plan_configuration                        631761 non-null object\n",
            "has_superstructure_adobe_mud              631761 non-null int64\n",
            "has_superstructure_mud_mortar_stone       631761 non-null int64\n",
            "has_superstructure_stone_flag             631761 non-null int64\n",
            "has_superstructure_cement_mortar_stone    631761 non-null int64\n",
            "has_superstructure_mud_mortar_brick       631761 non-null int64\n",
            "has_superstructure_cement_mortar_brick    631761 non-null int64\n",
            "has_superstructure_timber                 631761 non-null int64\n",
            "has_superstructure_bamboo                 631761 non-null int64\n",
            "has_superstructure_rc_non_engineered      631761 non-null int64\n",
            "has_superstructure_rc_engineered          631761 non-null int64\n",
            "has_superstructure_other                  631761 non-null int64\n",
            "condition_post_eq                         631761 non-null object\n",
            "area_assesed                              631761 non-null object\n",
            "damage_grade                              631761 non-null object\n",
            "has_geotechnical_risk                     631761 non-null float64\n",
            "has_geotechnical_risk_fault_crack         631761 non-null int64\n",
            "has_geotechnical_risk_flood               631761 non-null int64\n",
            "has_geotechnical_risk_land_settlement     631761 non-null int64\n",
            "has_geotechnical_risk_landslide           631761 non-null int64\n",
            "has_geotechnical_risk_liquefaction        631761 non-null int64\n",
            "has_geotechnical_risk_other               631761 non-null int64\n",
            "has_geotechnical_risk_rock_fall           631761 non-null int64\n",
            "has_repair_started                        598344 non-null float64\n",
            "dtypes: float64(4), int64(37), object(11)\n",
            "memory usage: 255.5+ MB\n"
          ],
          "name": "stdout"
        }
      ]
    },
    {
      "metadata": {
        "id": "TPcY9sr-2Eoe",
        "colab_type": "code",
        "colab": {}
      },
      "cell_type": "code",
      "source": [
        "dep_var = 'damage_grade'\n",
        "#cat_names = ['workclass', 'education', 'marital-status', 'occupation', 'relationship', 'race']\n",
        "#cont_names = ['age', 'fnlwgt', 'education-num']\n",
        "#procs = [FillMissing, Categorify, Normalize]"
      ],
      "execution_count": 0,
      "outputs": []
    },
    {
      "metadata": {
        "id": "OCu9jDexQXI2",
        "colab_type": "code",
        "colab": {}
      },
      "cell_type": "code",
      "source": [
        "cat_names = ['legal_ownership_status', 'land_surface_condition',\n",
        "       'foundation_type', 'roof_type', 'ground_floor_type', 'other_floor_type',\n",
        "       'position', 'plan_configuration',\n",
        "       'condition_post_eq', 'area_assesed']"
      ],
      "execution_count": 0,
      "outputs": []
    },
    {
      "metadata": {
        "id": "QJ0SfRxyQJO4",
        "colab_type": "code",
        "colab": {}
      },
      "cell_type": "code",
      "source": [
        "cont_names = ['district_id', 'vdcmun_id', 'ward_id', \n",
        "       'count_families', 'has_secondary_use', 'has_secondary_use_agriculture',\n",
        "       'has_secondary_use_hotel', 'has_secondary_use_rental',\n",
        "       'has_secondary_use_institution', 'has_secondary_use_school',\n",
        "       'has_secondary_use_industry', 'has_secondary_use_health_post',\n",
        "       'has_secondary_use_gov_office', 'has_secondary_use_use_police',\n",
        "       'has_secondary_use_other', 'count_floors_pre_eq',\n",
        "       'count_floors_post_eq', 'age_building', 'plinth_area_sq_ft',\n",
        "       'height_ft_pre_eq', 'height_ft_post_eq', 'has_superstructure_adobe_mud',\n",
        "       'has_superstructure_mud_mortar_stone', 'has_superstructure_stone_flag',\n",
        "       'has_superstructure_cement_mortar_stone',\n",
        "       'has_superstructure_mud_mortar_brick',\n",
        "       'has_superstructure_cement_mortar_brick', 'has_superstructure_timber',\n",
        "       'has_superstructure_bamboo', 'has_superstructure_rc_non_engineered',\n",
        "       'has_superstructure_rc_engineered', 'has_superstructure_other',\n",
        "       'has_geotechnical_risk', 'has_geotechnical_risk_fault_crack',\n",
        "       'has_geotechnical_risk_flood', 'has_geotechnical_risk_land_settlement',\n",
        "       'has_geotechnical_risk_landslide', 'has_geotechnical_risk_liquefaction',\n",
        "       'has_geotechnical_risk_other', 'has_geotechnical_risk_rock_fall',\n",
        "       'has_repair_started']"
      ],
      "execution_count": 0,
      "outputs": []
    },
    {
      "metadata": {
        "id": "RMqBRrwXQJlX",
        "colab_type": "code",
        "colab": {
          "base_uri": "https://localhost:8080/",
          "height": 35
        },
        "outputId": "283cf2d0-aed2-4221-c79c-4fc9e90ba796"
      },
      "cell_type": "code",
      "source": [
        "len(cat_names)"
      ],
      "execution_count": 44,
      "outputs": [
        {
          "output_type": "execute_result",
          "data": {
            "text/plain": [
              "10"
            ]
          },
          "metadata": {
            "tags": []
          },
          "execution_count": 44
        }
      ]
    },
    {
      "metadata": {
        "id": "i45KBuuYQKDs",
        "colab_type": "code",
        "colab": {
          "base_uri": "https://localhost:8080/",
          "height": 35
        },
        "outputId": "a4159d69-9937-4374-8305-bfe125ed6c0f"
      },
      "cell_type": "code",
      "source": [
        "len(cont_names)"
      ],
      "execution_count": 45,
      "outputs": [
        {
          "output_type": "execute_result",
          "data": {
            "text/plain": [
              "41"
            ]
          },
          "metadata": {
            "tags": []
          },
          "execution_count": 45
        }
      ]
    },
    {
      "metadata": {
        "id": "-APndzzxSCsN",
        "colab_type": "code",
        "colab": {
          "base_uri": "https://localhost:8080/",
          "height": 35
        },
        "outputId": "8a7032ef-12c6-46de-e33f-67660aed7bc9"
      },
      "cell_type": "code",
      "source": [
        "df.shape"
      ],
      "execution_count": 46,
      "outputs": [
        {
          "output_type": "execute_result",
          "data": {
            "text/plain": [
              "(631761, 52)"
            ]
          },
          "metadata": {
            "tags": []
          },
          "execution_count": 46
        }
      ]
    },
    {
      "metadata": {
        "id": "-CcJljohSGci",
        "colab_type": "code",
        "colab": {}
      },
      "cell_type": "code",
      "source": [
        "procs = [Categorify, Normalize]"
      ],
      "execution_count": 0,
      "outputs": []
    },
    {
      "metadata": {
        "id": "Z8-fxgmFSLFM",
        "colab_type": "code",
        "colab": {}
      },
      "cell_type": "code",
      "source": [
        "path = \"/content/gdrive/My Drive/Colab Notebooks/data/Dataset/\""
      ],
      "execution_count": 0,
      "outputs": []
    },
    {
      "metadata": {
        "id": "CnpvMEcl2Eot",
        "colab_type": "code",
        "colab": {}
      },
      "cell_type": "code",
      "source": [
        "test = TabularList.from_df(df.iloc[500001:631761].copy(), path=path, cat_names=cat_names, cont_names=cont_names)"
      ],
      "execution_count": 0,
      "outputs": []
    },
    {
      "metadata": {
        "id": "eg1fj4DqT9kW",
        "colab_type": "code",
        "colab": {
          "base_uri": "https://localhost:8080/",
          "height": 990
        },
        "outputId": "b5b274c6-a685-4fd5-8912-2b6d038fa6a8"
      },
      "cell_type": "code",
      "source": [
        "df.isnull().any()"
      ],
      "execution_count": 60,
      "outputs": [
        {
          "output_type": "execute_result",
          "data": {
            "text/plain": [
              "district_id                               False\n",
              "vdcmun_id                                 False\n",
              "ward_id                                   False\n",
              "legal_ownership_status                    False\n",
              "count_families                            False\n",
              "has_secondary_use                         False\n",
              "has_secondary_use_agriculture             False\n",
              "has_secondary_use_hotel                   False\n",
              "has_secondary_use_rental                  False\n",
              "has_secondary_use_institution             False\n",
              "has_secondary_use_school                  False\n",
              "has_secondary_use_industry                False\n",
              "has_secondary_use_health_post             False\n",
              "has_secondary_use_gov_office              False\n",
              "has_secondary_use_use_police              False\n",
              "has_secondary_use_other                   False\n",
              "count_floors_pre_eq                       False\n",
              "count_floors_post_eq                      False\n",
              "age_building                              False\n",
              "plinth_area_sq_ft                         False\n",
              "height_ft_pre_eq                          False\n",
              "height_ft_post_eq                         False\n",
              "land_surface_condition                    False\n",
              "foundation_type                           False\n",
              "roof_type                                 False\n",
              "ground_floor_type                         False\n",
              "other_floor_type                          False\n",
              "position                                  False\n",
              "plan_configuration                        False\n",
              "has_superstructure_adobe_mud              False\n",
              "has_superstructure_mud_mortar_stone       False\n",
              "has_superstructure_stone_flag             False\n",
              "has_superstructure_cement_mortar_stone    False\n",
              "has_superstructure_mud_mortar_brick       False\n",
              "has_superstructure_cement_mortar_brick    False\n",
              "has_superstructure_timber                 False\n",
              "has_superstructure_bamboo                 False\n",
              "has_superstructure_rc_non_engineered      False\n",
              "has_superstructure_rc_engineered          False\n",
              "has_superstructure_other                  False\n",
              "condition_post_eq                         False\n",
              "area_assesed                              False\n",
              "damage_grade                              False\n",
              "has_geotechnical_risk                     False\n",
              "has_geotechnical_risk_fault_crack         False\n",
              "has_geotechnical_risk_flood               False\n",
              "has_geotechnical_risk_land_settlement     False\n",
              "has_geotechnical_risk_landslide           False\n",
              "has_geotechnical_risk_liquefaction        False\n",
              "has_geotechnical_risk_other               False\n",
              "has_geotechnical_risk_rock_fall           False\n",
              "has_repair_started                        False\n",
              "dtype: bool"
            ]
          },
          "metadata": {
            "tags": []
          },
          "execution_count": 60
        }
      ]
    },
    {
      "metadata": {
        "id": "xCf_DnsAUlwp",
        "colab_type": "code",
        "colab": {}
      },
      "cell_type": "code",
      "source": [
        "df['count_families'].fillna((df['count_families'].mean()), inplace=True)\n",
        "df['has_repair_started'].fillna((df['has_repair_started'].mean()), inplace=True)"
      ],
      "execution_count": 0,
      "outputs": []
    },
    {
      "metadata": {
        "id": "ZW18vm6cU802",
        "colab_type": "code",
        "colab": {
          "base_uri": "https://localhost:8080/",
          "height": 990
        },
        "outputId": "3720dd1e-d8bf-4392-e280-38edf20544fd"
      },
      "cell_type": "code",
      "source": [
        "df.isnull().any()"
      ],
      "execution_count": 62,
      "outputs": [
        {
          "output_type": "execute_result",
          "data": {
            "text/plain": [
              "district_id                               False\n",
              "vdcmun_id                                 False\n",
              "ward_id                                   False\n",
              "legal_ownership_status                    False\n",
              "count_families                            False\n",
              "has_secondary_use                         False\n",
              "has_secondary_use_agriculture             False\n",
              "has_secondary_use_hotel                   False\n",
              "has_secondary_use_rental                  False\n",
              "has_secondary_use_institution             False\n",
              "has_secondary_use_school                  False\n",
              "has_secondary_use_industry                False\n",
              "has_secondary_use_health_post             False\n",
              "has_secondary_use_gov_office              False\n",
              "has_secondary_use_use_police              False\n",
              "has_secondary_use_other                   False\n",
              "count_floors_pre_eq                       False\n",
              "count_floors_post_eq                      False\n",
              "age_building                              False\n",
              "plinth_area_sq_ft                         False\n",
              "height_ft_pre_eq                          False\n",
              "height_ft_post_eq                         False\n",
              "land_surface_condition                    False\n",
              "foundation_type                           False\n",
              "roof_type                                 False\n",
              "ground_floor_type                         False\n",
              "other_floor_type                          False\n",
              "position                                  False\n",
              "plan_configuration                        False\n",
              "has_superstructure_adobe_mud              False\n",
              "has_superstructure_mud_mortar_stone       False\n",
              "has_superstructure_stone_flag             False\n",
              "has_superstructure_cement_mortar_stone    False\n",
              "has_superstructure_mud_mortar_brick       False\n",
              "has_superstructure_cement_mortar_brick    False\n",
              "has_superstructure_timber                 False\n",
              "has_superstructure_bamboo                 False\n",
              "has_superstructure_rc_non_engineered      False\n",
              "has_superstructure_rc_engineered          False\n",
              "has_superstructure_other                  False\n",
              "condition_post_eq                         False\n",
              "area_assesed                              False\n",
              "damage_grade                              False\n",
              "has_geotechnical_risk                     False\n",
              "has_geotechnical_risk_fault_crack         False\n",
              "has_geotechnical_risk_flood               False\n",
              "has_geotechnical_risk_land_settlement     False\n",
              "has_geotechnical_risk_landslide           False\n",
              "has_geotechnical_risk_liquefaction        False\n",
              "has_geotechnical_risk_other               False\n",
              "has_geotechnical_risk_rock_fall           False\n",
              "has_repair_started                        False\n",
              "dtype: bool"
            ]
          },
          "metadata": {
            "tags": []
          },
          "execution_count": 62
        }
      ]
    },
    {
      "metadata": {
        "id": "6w70eXSF2Eo0",
        "colab_type": "code",
        "colab": {}
      },
      "cell_type": "code",
      "source": [
        "data = (TabularList.from_df(df, path=path, cat_names=cat_names, cont_names=cont_names, procs=procs)\n",
        "                           .split_by_idx(list(range(500001,631761)))\n",
        "                           .label_from_df(cols=dep_var)\n",
        "                           .add_test(test)\n",
        "                           .databunch())"
      ],
      "execution_count": 0,
      "outputs": []
    },
    {
      "metadata": {
        "id": "lDoTvPoh2Eo5",
        "colab_type": "code",
        "colab": {
          "base_uri": "https://localhost:8080/",
          "height": 574
        },
        "outputId": "84d0ac43-0df8-4673-de36-fb4bb1b2e56b"
      },
      "cell_type": "code",
      "source": [
        "data.show_batch(rows=10)"
      ],
      "execution_count": 64,
      "outputs": [
        {
          "output_type": "display_data",
          "data": {
            "text/html": [
              "<table border=\"1\" class=\"dataframe\">\n",
              "  <thead>\n",
              "    <tr style=\"text-align: right;\">\n",
              "      <th>legal_ownership_status</th>\n",
              "      <th>land_surface_condition</th>\n",
              "      <th>foundation_type</th>\n",
              "      <th>roof_type</th>\n",
              "      <th>ground_floor_type</th>\n",
              "      <th>other_floor_type</th>\n",
              "      <th>position</th>\n",
              "      <th>plan_configuration</th>\n",
              "      <th>condition_post_eq</th>\n",
              "      <th>area_assesed</th>\n",
              "      <th>district_id</th>\n",
              "      <th>vdcmun_id</th>\n",
              "      <th>ward_id</th>\n",
              "      <th>count_families</th>\n",
              "      <th>has_secondary_use</th>\n",
              "      <th>has_secondary_use_agriculture</th>\n",
              "      <th>has_secondary_use_hotel</th>\n",
              "      <th>has_secondary_use_rental</th>\n",
              "      <th>has_secondary_use_institution</th>\n",
              "      <th>has_secondary_use_school</th>\n",
              "      <th>has_secondary_use_industry</th>\n",
              "      <th>has_secondary_use_health_post</th>\n",
              "      <th>has_secondary_use_gov_office</th>\n",
              "      <th>has_secondary_use_use_police</th>\n",
              "      <th>has_secondary_use_other</th>\n",
              "      <th>count_floors_pre_eq</th>\n",
              "      <th>count_floors_post_eq</th>\n",
              "      <th>age_building</th>\n",
              "      <th>plinth_area_sq_ft</th>\n",
              "      <th>height_ft_pre_eq</th>\n",
              "      <th>height_ft_post_eq</th>\n",
              "      <th>has_superstructure_adobe_mud</th>\n",
              "      <th>has_superstructure_mud_mortar_stone</th>\n",
              "      <th>has_superstructure_stone_flag</th>\n",
              "      <th>has_superstructure_cement_mortar_stone</th>\n",
              "      <th>has_superstructure_mud_mortar_brick</th>\n",
              "      <th>has_superstructure_cement_mortar_brick</th>\n",
              "      <th>has_superstructure_timber</th>\n",
              "      <th>has_superstructure_bamboo</th>\n",
              "      <th>has_superstructure_rc_non_engineered</th>\n",
              "      <th>has_superstructure_rc_engineered</th>\n",
              "      <th>has_superstructure_other</th>\n",
              "      <th>has_geotechnical_risk</th>\n",
              "      <th>has_geotechnical_risk_fault_crack</th>\n",
              "      <th>has_geotechnical_risk_flood</th>\n",
              "      <th>has_geotechnical_risk_land_settlement</th>\n",
              "      <th>has_geotechnical_risk_landslide</th>\n",
              "      <th>has_geotechnical_risk_liquefaction</th>\n",
              "      <th>has_geotechnical_risk_other</th>\n",
              "      <th>has_geotechnical_risk_rock_fall</th>\n",
              "      <th>has_repair_started</th>\n",
              "      <th>target</th>\n",
              "    </tr>\n",
              "  </thead>\n",
              "  <tbody>\n",
              "    <tr>\n",
              "      <td>Private</td>\n",
              "      <td>Moderate slope</td>\n",
              "      <td>Mud mortar-Stone/Brick</td>\n",
              "      <td>Bamboo/Timber-Light roof</td>\n",
              "      <td>Brick/Stone</td>\n",
              "      <td>TImber/Bamboo-Mud</td>\n",
              "      <td>Not attached</td>\n",
              "      <td>Rectangular</td>\n",
              "      <td>Damaged-Rubble Clear-New building built</td>\n",
              "      <td>Building removed</td>\n",
              "      <td>1.6943</td>\n",
              "      <td>1.6974</td>\n",
              "      <td>1.6976</td>\n",
              "      <td>0.0387</td>\n",
              "      <td>2.8126</td>\n",
              "      <td>3.8281</td>\n",
              "      <td>-0.1882</td>\n",
              "      <td>-0.0919</td>\n",
              "      <td>-0.0313</td>\n",
              "      <td>-0.0202</td>\n",
              "      <td>-0.0330</td>\n",
              "      <td>-0.0143</td>\n",
              "      <td>-0.0120</td>\n",
              "      <td>-0.0089</td>\n",
              "      <td>-0.0710</td>\n",
              "      <td>-0.1796</td>\n",
              "      <td>-1.2162</td>\n",
              "      <td>0.1672</td>\n",
              "      <td>-0.6611</td>\n",
              "      <td>-0.7445</td>\n",
              "      <td>-1.2007</td>\n",
              "      <td>-0.3125</td>\n",
              "      <td>0.5594</td>\n",
              "      <td>-0.1884</td>\n",
              "      <td>-0.1377</td>\n",
              "      <td>-0.2708</td>\n",
              "      <td>-0.2859</td>\n",
              "      <td>-0.5821</td>\n",
              "      <td>-0.3028</td>\n",
              "      <td>-0.2113</td>\n",
              "      <td>-0.1275</td>\n",
              "      <td>-0.1235</td>\n",
              "      <td>2.6577</td>\n",
              "      <td>-0.2112</td>\n",
              "      <td>-0.0966</td>\n",
              "      <td>5.2647</td>\n",
              "      <td>3.6563</td>\n",
              "      <td>-0.0481</td>\n",
              "      <td>-0.0329</td>\n",
              "      <td>-0.1899</td>\n",
              "      <td>1.5092</td>\n",
              "      <td>Grade 5</td>\n",
              "    </tr>\n",
              "    <tr>\n",
              "      <td>Private</td>\n",
              "      <td>Flat</td>\n",
              "      <td>Mud mortar-Stone/Brick</td>\n",
              "      <td>Bamboo/Timber-Heavy roof</td>\n",
              "      <td>Mud</td>\n",
              "      <td>TImber/Bamboo-Mud</td>\n",
              "      <td>Attached-1 side</td>\n",
              "      <td>Rectangular</td>\n",
              "      <td>Damaged-Rubble clear</td>\n",
              "      <td>Building removed</td>\n",
              "      <td>0.4084</td>\n",
              "      <td>0.4249</td>\n",
              "      <td>0.4249</td>\n",
              "      <td>0.0387</td>\n",
              "      <td>-0.3555</td>\n",
              "      <td>-0.2612</td>\n",
              "      <td>-0.1882</td>\n",
              "      <td>-0.0919</td>\n",
              "      <td>-0.0313</td>\n",
              "      <td>-0.0202</td>\n",
              "      <td>-0.0330</td>\n",
              "      <td>-0.0143</td>\n",
              "      <td>-0.0120</td>\n",
              "      <td>-0.0089</td>\n",
              "      <td>-0.0710</td>\n",
              "      <td>1.1944</td>\n",
              "      <td>-1.2162</td>\n",
              "      <td>13.3188</td>\n",
              "      <td>-0.6655</td>\n",
              "      <td>0.8116</td>\n",
              "      <td>-1.2007</td>\n",
              "      <td>-0.3125</td>\n",
              "      <td>0.5594</td>\n",
              "      <td>-0.1884</td>\n",
              "      <td>-0.1377</td>\n",
              "      <td>-0.2708</td>\n",
              "      <td>-0.2859</td>\n",
              "      <td>-0.5821</td>\n",
              "      <td>-0.3028</td>\n",
              "      <td>-0.2113</td>\n",
              "      <td>-0.1275</td>\n",
              "      <td>-0.1235</td>\n",
              "      <td>-0.3763</td>\n",
              "      <td>-0.2112</td>\n",
              "      <td>-0.0966</td>\n",
              "      <td>-0.1899</td>\n",
              "      <td>-0.2735</td>\n",
              "      <td>-0.0481</td>\n",
              "      <td>-0.0329</td>\n",
              "      <td>-0.1899</td>\n",
              "      <td>1.5092</td>\n",
              "      <td>Grade 5</td>\n",
              "    </tr>\n",
              "    <tr>\n",
              "      <td>Private</td>\n",
              "      <td>Flat</td>\n",
              "      <td>Mud mortar-Stone/Brick</td>\n",
              "      <td>Bamboo/Timber-Light roof</td>\n",
              "      <td>Mud</td>\n",
              "      <td>TImber/Bamboo-Mud</td>\n",
              "      <td>Not attached</td>\n",
              "      <td>Rectangular</td>\n",
              "      <td>Damaged-Used in risk</td>\n",
              "      <td>Both</td>\n",
              "      <td>-1.7778</td>\n",
              "      <td>-1.7448</td>\n",
              "      <td>-1.7449</td>\n",
              "      <td>0.0387</td>\n",
              "      <td>2.8126</td>\n",
              "      <td>3.8281</td>\n",
              "      <td>-0.1882</td>\n",
              "      <td>-0.0919</td>\n",
              "      <td>-0.0313</td>\n",
              "      <td>-0.0202</td>\n",
              "      <td>-0.0330</td>\n",
              "      <td>-0.0143</td>\n",
              "      <td>-0.0120</td>\n",
              "      <td>-0.0089</td>\n",
              "      <td>-0.0710</td>\n",
              "      <td>1.1944</td>\n",
              "      <td>1.5174</td>\n",
              "      <td>-0.0523</td>\n",
              "      <td>-0.4016</td>\n",
              "      <td>-0.5716</td>\n",
              "      <td>0.3037</td>\n",
              "      <td>-0.3125</td>\n",
              "      <td>0.5594</td>\n",
              "      <td>-0.1884</td>\n",
              "      <td>-0.1377</td>\n",
              "      <td>-0.2708</td>\n",
              "      <td>-0.2859</td>\n",
              "      <td>-0.5821</td>\n",
              "      <td>-0.3028</td>\n",
              "      <td>-0.2113</td>\n",
              "      <td>-0.1275</td>\n",
              "      <td>-0.1235</td>\n",
              "      <td>-0.3763</td>\n",
              "      <td>-0.2112</td>\n",
              "      <td>-0.0966</td>\n",
              "      <td>-0.1899</td>\n",
              "      <td>-0.2735</td>\n",
              "      <td>-0.0481</td>\n",
              "      <td>-0.0329</td>\n",
              "      <td>-0.1899</td>\n",
              "      <td>-0.6995</td>\n",
              "      <td>Grade 2</td>\n",
              "    </tr>\n",
              "    <tr>\n",
              "      <td>Private</td>\n",
              "      <td>Moderate slope</td>\n",
              "      <td>Mud mortar-Stone/Brick</td>\n",
              "      <td>Bamboo/Timber-Heavy roof</td>\n",
              "      <td>Mud</td>\n",
              "      <td>Timber-Planck</td>\n",
              "      <td>Not attached</td>\n",
              "      <td>Rectangular</td>\n",
              "      <td>Damaged-Not used</td>\n",
              "      <td>Both</td>\n",
              "      <td>-0.7490</td>\n",
              "      <td>-0.7590</td>\n",
              "      <td>-0.7589</td>\n",
              "      <td>0.0387</td>\n",
              "      <td>-0.3555</td>\n",
              "      <td>-0.2612</td>\n",
              "      <td>-0.1882</td>\n",
              "      <td>-0.0919</td>\n",
              "      <td>-0.0313</td>\n",
              "      <td>-0.0202</td>\n",
              "      <td>-0.0330</td>\n",
              "      <td>-0.0143</td>\n",
              "      <td>-0.0120</td>\n",
              "      <td>-0.0089</td>\n",
              "      <td>-0.0710</td>\n",
              "      <td>1.1944</td>\n",
              "      <td>1.5174</td>\n",
              "      <td>-0.1071</td>\n",
              "      <td>0.3553</td>\n",
              "      <td>1.3302</td>\n",
              "      <td>1.5766</td>\n",
              "      <td>-0.3125</td>\n",
              "      <td>0.5594</td>\n",
              "      <td>-0.1884</td>\n",
              "      <td>-0.1377</td>\n",
              "      <td>-0.2708</td>\n",
              "      <td>-0.2859</td>\n",
              "      <td>-0.5821</td>\n",
              "      <td>-0.3028</td>\n",
              "      <td>-0.2113</td>\n",
              "      <td>-0.1275</td>\n",
              "      <td>-0.1235</td>\n",
              "      <td>2.6577</td>\n",
              "      <td>-0.2112</td>\n",
              "      <td>-0.0966</td>\n",
              "      <td>-0.1899</td>\n",
              "      <td>3.6563</td>\n",
              "      <td>-0.0481</td>\n",
              "      <td>-0.0329</td>\n",
              "      <td>5.2650</td>\n",
              "      <td>-0.6995</td>\n",
              "      <td>Grade 4</td>\n",
              "    </tr>\n",
              "    <tr>\n",
              "      <td>Private</td>\n",
              "      <td>Flat</td>\n",
              "      <td>Mud mortar-Stone/Brick</td>\n",
              "      <td>Bamboo/Timber-Light roof</td>\n",
              "      <td>Mud</td>\n",
              "      <td>Timber-Planck</td>\n",
              "      <td>Not attached</td>\n",
              "      <td>Rectangular</td>\n",
              "      <td>Damaged-Not used</td>\n",
              "      <td>Both</td>\n",
              "      <td>-0.7490</td>\n",
              "      <td>-0.7255</td>\n",
              "      <td>-0.7256</td>\n",
              "      <td>-2.3442</td>\n",
              "      <td>-0.3555</td>\n",
              "      <td>-0.2612</td>\n",
              "      <td>-0.1882</td>\n",
              "      <td>-0.0919</td>\n",
              "      <td>-0.0313</td>\n",
              "      <td>-0.0202</td>\n",
              "      <td>-0.0330</td>\n",
              "      <td>-0.0143</td>\n",
              "      <td>-0.0120</td>\n",
              "      <td>-0.0089</td>\n",
              "      <td>-0.0710</td>\n",
              "      <td>1.1944</td>\n",
              "      <td>1.5174</td>\n",
              "      <td>-0.3402</td>\n",
              "      <td>-0.4232</td>\n",
              "      <td>0.9844</td>\n",
              "      <td>1.3452</td>\n",
              "      <td>-0.3125</td>\n",
              "      <td>0.5594</td>\n",
              "      <td>-0.1884</td>\n",
              "      <td>-0.1377</td>\n",
              "      <td>-0.2708</td>\n",
              "      <td>-0.2859</td>\n",
              "      <td>1.7178</td>\n",
              "      <td>-0.3028</td>\n",
              "      <td>-0.2113</td>\n",
              "      <td>-0.1275</td>\n",
              "      <td>-0.1235</td>\n",
              "      <td>-0.3763</td>\n",
              "      <td>-0.2112</td>\n",
              "      <td>-0.0966</td>\n",
              "      <td>-0.1899</td>\n",
              "      <td>-0.2735</td>\n",
              "      <td>-0.0481</td>\n",
              "      <td>-0.0329</td>\n",
              "      <td>-0.1899</td>\n",
              "      <td>-0.6995</td>\n",
              "      <td>Grade 3</td>\n",
              "    </tr>\n",
              "    <tr>\n",
              "      <td>Private</td>\n",
              "      <td>Flat</td>\n",
              "      <td>Cement-Stone/Brick</td>\n",
              "      <td>Bamboo/Timber-Light roof</td>\n",
              "      <td>Mud</td>\n",
              "      <td>Not applicable</td>\n",
              "      <td>Not attached</td>\n",
              "      <td>Square</td>\n",
              "      <td>Damaged-Rubble clear</td>\n",
              "      <td>Building removed</td>\n",
              "      <td>0.1512</td>\n",
              "      <td>0.1318</td>\n",
              "      <td>0.1318</td>\n",
              "      <td>-2.3442</td>\n",
              "      <td>2.8126</td>\n",
              "      <td>3.8281</td>\n",
              "      <td>-0.1882</td>\n",
              "      <td>-0.0919</td>\n",
              "      <td>-0.0313</td>\n",
              "      <td>-0.0202</td>\n",
              "      <td>-0.0330</td>\n",
              "      <td>-0.0143</td>\n",
              "      <td>-0.0120</td>\n",
              "      <td>-0.0089</td>\n",
              "      <td>-0.0710</td>\n",
              "      <td>-1.5536</td>\n",
              "      <td>-1.2162</td>\n",
              "      <td>0.0300</td>\n",
              "      <td>0.4807</td>\n",
              "      <td>-1.2632</td>\n",
              "      <td>-1.2007</td>\n",
              "      <td>-0.3125</td>\n",
              "      <td>0.5594</td>\n",
              "      <td>-0.1884</td>\n",
              "      <td>-0.1377</td>\n",
              "      <td>-0.2708</td>\n",
              "      <td>-0.2859</td>\n",
              "      <td>-0.5821</td>\n",
              "      <td>-0.3028</td>\n",
              "      <td>-0.2113</td>\n",
              "      <td>-0.1275</td>\n",
              "      <td>-0.1235</td>\n",
              "      <td>-0.3763</td>\n",
              "      <td>-0.2112</td>\n",
              "      <td>-0.0966</td>\n",
              "      <td>-0.1899</td>\n",
              "      <td>-0.2735</td>\n",
              "      <td>-0.0481</td>\n",
              "      <td>-0.0329</td>\n",
              "      <td>-0.1899</td>\n",
              "      <td>-0.6995</td>\n",
              "      <td>Grade 5</td>\n",
              "    </tr>\n",
              "    <tr>\n",
              "      <td>Private</td>\n",
              "      <td>Flat</td>\n",
              "      <td>Mud mortar-Stone/Brick</td>\n",
              "      <td>Bamboo/Timber-Light roof</td>\n",
              "      <td>Mud</td>\n",
              "      <td>TImber/Bamboo-Mud</td>\n",
              "      <td>Not attached</td>\n",
              "      <td>Rectangular</td>\n",
              "      <td>Damaged-Repaired and used</td>\n",
              "      <td>Both</td>\n",
              "      <td>-1.9064</td>\n",
              "      <td>-1.9402</td>\n",
              "      <td>-1.9402</td>\n",
              "      <td>0.0387</td>\n",
              "      <td>-0.3555</td>\n",
              "      <td>-0.2612</td>\n",
              "      <td>-0.1882</td>\n",
              "      <td>-0.0919</td>\n",
              "      <td>-0.0313</td>\n",
              "      <td>-0.0202</td>\n",
              "      <td>-0.0330</td>\n",
              "      <td>-0.0143</td>\n",
              "      <td>-0.0120</td>\n",
              "      <td>-0.0089</td>\n",
              "      <td>-0.0710</td>\n",
              "      <td>-0.1796</td>\n",
              "      <td>0.6062</td>\n",
              "      <td>-0.1620</td>\n",
              "      <td>-0.7174</td>\n",
              "      <td>-0.3987</td>\n",
              "      <td>0.4194</td>\n",
              "      <td>-0.3125</td>\n",
              "      <td>0.5594</td>\n",
              "      <td>-0.1884</td>\n",
              "      <td>-0.1377</td>\n",
              "      <td>-0.2708</td>\n",
              "      <td>-0.2859</td>\n",
              "      <td>-0.5821</td>\n",
              "      <td>-0.3028</td>\n",
              "      <td>-0.2113</td>\n",
              "      <td>-0.1275</td>\n",
              "      <td>-0.1235</td>\n",
              "      <td>-0.3763</td>\n",
              "      <td>-0.2112</td>\n",
              "      <td>-0.0966</td>\n",
              "      <td>-0.1899</td>\n",
              "      <td>-0.2735</td>\n",
              "      <td>-0.0481</td>\n",
              "      <td>-0.0329</td>\n",
              "      <td>-0.1899</td>\n",
              "      <td>1.5092</td>\n",
              "      <td>Grade 2</td>\n",
              "    </tr>\n",
              "    <tr>\n",
              "      <td>Public</td>\n",
              "      <td>Moderate slope</td>\n",
              "      <td>Mud mortar-Stone/Brick</td>\n",
              "      <td>Bamboo/Timber-Light roof</td>\n",
              "      <td>Brick/Stone</td>\n",
              "      <td>TImber/Bamboo-Mud</td>\n",
              "      <td>Attached-1 side</td>\n",
              "      <td>Rectangular</td>\n",
              "      <td>Damaged-Not used</td>\n",
              "      <td>Both</td>\n",
              "      <td>0.4084</td>\n",
              "      <td>0.3799</td>\n",
              "      <td>0.3799</td>\n",
              "      <td>0.0387</td>\n",
              "      <td>-0.3555</td>\n",
              "      <td>-0.2612</td>\n",
              "      <td>-0.1882</td>\n",
              "      <td>-0.0919</td>\n",
              "      <td>-0.0313</td>\n",
              "      <td>-0.0202</td>\n",
              "      <td>-0.0330</td>\n",
              "      <td>-0.0143</td>\n",
              "      <td>-0.0120</td>\n",
              "      <td>-0.0089</td>\n",
              "      <td>-0.0710</td>\n",
              "      <td>-0.1796</td>\n",
              "      <td>0.6062</td>\n",
              "      <td>-0.1071</td>\n",
              "      <td>-0.8125</td>\n",
              "      <td>-0.3987</td>\n",
              "      <td>0.4194</td>\n",
              "      <td>3.2001</td>\n",
              "      <td>0.5594</td>\n",
              "      <td>-0.1884</td>\n",
              "      <td>-0.1377</td>\n",
              "      <td>-0.2708</td>\n",
              "      <td>-0.2859</td>\n",
              "      <td>-0.5821</td>\n",
              "      <td>-0.3028</td>\n",
              "      <td>-0.2113</td>\n",
              "      <td>-0.1275</td>\n",
              "      <td>-0.1235</td>\n",
              "      <td>-0.3763</td>\n",
              "      <td>-0.2112</td>\n",
              "      <td>-0.0966</td>\n",
              "      <td>-0.1899</td>\n",
              "      <td>-0.2735</td>\n",
              "      <td>-0.0481</td>\n",
              "      <td>-0.0329</td>\n",
              "      <td>-0.1899</td>\n",
              "      <td>-0.6995</td>\n",
              "      <td>Grade 3</td>\n",
              "    </tr>\n",
              "    <tr>\n",
              "      <td>Public</td>\n",
              "      <td>Flat</td>\n",
              "      <td>Mud mortar-Stone/Brick</td>\n",
              "      <td>Bamboo/Timber-Light roof</td>\n",
              "      <td>Mud</td>\n",
              "      <td>Timber-Planck</td>\n",
              "      <td>Not attached</td>\n",
              "      <td>Rectangular</td>\n",
              "      <td>Damaged-Used in risk</td>\n",
              "      <td>Both</td>\n",
              "      <td>-0.3632</td>\n",
              "      <td>-0.3155</td>\n",
              "      <td>-0.3155</td>\n",
              "      <td>0.0387</td>\n",
              "      <td>-0.3555</td>\n",
              "      <td>-0.2612</td>\n",
              "      <td>-0.1882</td>\n",
              "      <td>-0.0919</td>\n",
              "      <td>-0.0313</td>\n",
              "      <td>-0.0202</td>\n",
              "      <td>-0.0330</td>\n",
              "      <td>-0.0143</td>\n",
              "      <td>-0.0120</td>\n",
              "      <td>-0.0089</td>\n",
              "      <td>-0.0710</td>\n",
              "      <td>-0.1796</td>\n",
              "      <td>-0.3050</td>\n",
              "      <td>-0.1483</td>\n",
              "      <td>-1.1369</td>\n",
              "      <td>-0.2258</td>\n",
              "      <td>-0.2749</td>\n",
              "      <td>3.2001</td>\n",
              "      <td>-1.7876</td>\n",
              "      <td>-0.1884</td>\n",
              "      <td>-0.1377</td>\n",
              "      <td>-0.2708</td>\n",
              "      <td>-0.2859</td>\n",
              "      <td>-0.5821</td>\n",
              "      <td>-0.3028</td>\n",
              "      <td>-0.2113</td>\n",
              "      <td>-0.1275</td>\n",
              "      <td>-0.1235</td>\n",
              "      <td>-0.3763</td>\n",
              "      <td>-0.2112</td>\n",
              "      <td>-0.0966</td>\n",
              "      <td>-0.1899</td>\n",
              "      <td>-0.2735</td>\n",
              "      <td>-0.0481</td>\n",
              "      <td>-0.0329</td>\n",
              "      <td>-0.1899</td>\n",
              "      <td>-0.6995</td>\n",
              "      <td>Grade 3</td>\n",
              "    </tr>\n",
              "    <tr>\n",
              "      <td>Private</td>\n",
              "      <td>Flat</td>\n",
              "      <td>Mud mortar-Stone/Brick</td>\n",
              "      <td>Bamboo/Timber-Heavy roof</td>\n",
              "      <td>Mud</td>\n",
              "      <td>TImber/Bamboo-Mud</td>\n",
              "      <td>Not attached</td>\n",
              "      <td>Rectangular</td>\n",
              "      <td>Damaged-Not used</td>\n",
              "      <td>Both</td>\n",
              "      <td>0.4084</td>\n",
              "      <td>0.4043</td>\n",
              "      <td>0.4043</td>\n",
              "      <td>0.0387</td>\n",
              "      <td>-0.3555</td>\n",
              "      <td>-0.2612</td>\n",
              "      <td>-0.1882</td>\n",
              "      <td>-0.0919</td>\n",
              "      <td>-0.0313</td>\n",
              "      <td>-0.0202</td>\n",
              "      <td>-0.0330</td>\n",
              "      <td>-0.0143</td>\n",
              "      <td>-0.0120</td>\n",
              "      <td>-0.0089</td>\n",
              "      <td>-0.0710</td>\n",
              "      <td>-0.1796</td>\n",
              "      <td>0.6062</td>\n",
              "      <td>-0.2854</td>\n",
              "      <td>-0.6655</td>\n",
              "      <td>-0.3987</td>\n",
              "      <td>0.4194</td>\n",
              "      <td>-0.3125</td>\n",
              "      <td>0.5594</td>\n",
              "      <td>-0.1884</td>\n",
              "      <td>-0.1377</td>\n",
              "      <td>-0.2708</td>\n",
              "      <td>3.4975</td>\n",
              "      <td>-0.5821</td>\n",
              "      <td>-0.3028</td>\n",
              "      <td>-0.2113</td>\n",
              "      <td>-0.1275</td>\n",
              "      <td>-0.1235</td>\n",
              "      <td>-0.3763</td>\n",
              "      <td>-0.2112</td>\n",
              "      <td>-0.0966</td>\n",
              "      <td>-0.1899</td>\n",
              "      <td>-0.2735</td>\n",
              "      <td>-0.0481</td>\n",
              "      <td>-0.0329</td>\n",
              "      <td>-0.1899</td>\n",
              "      <td>-0.6995</td>\n",
              "      <td>Grade 4</td>\n",
              "    </tr>\n",
              "  </tbody>\n",
              "</table>"
            ],
            "text/plain": [
              "<IPython.core.display.HTML object>"
            ]
          },
          "metadata": {
            "tags": []
          }
        }
      ]
    },
    {
      "metadata": {
        "id": "ruw5Mr7i2EpI",
        "colab_type": "code",
        "colab": {}
      },
      "cell_type": "code",
      "source": [
        "learn = tabular_learner(data, layers=[200,100], metrics=accuracy)"
      ],
      "execution_count": 0,
      "outputs": []
    },
    {
      "metadata": {
        "id": "_BIPdGAx2EpQ",
        "colab_type": "code",
        "colab": {
          "base_uri": "https://localhost:8080/",
          "height": 104
        },
        "outputId": "10e5d45a-26ae-4724-9863-d9923f751485"
      },
      "cell_type": "code",
      "source": [
        "learn.fit(1, 1e-2)"
      ],
      "execution_count": 66,
      "outputs": [
        {
          "output_type": "display_data",
          "data": {
            "text/html": [
              "Total time: 01:50 <p><table border=\"1\" class=\"dataframe\">\n",
              "  <thead>\n",
              "    <tr style=\"text-align: left;\">\n",
              "      <th>epoch</th>\n",
              "      <th>train_loss</th>\n",
              "      <th>valid_loss</th>\n",
              "      <th>accuracy</th>\n",
              "      <th>time</th>\n",
              "    </tr>\n",
              "  </thead>\n",
              "  <tbody>\n",
              "    <tr>\n",
              "      <td>0</td>\n",
              "      <td>0.643385</td>\n",
              "      <td>7.731438</td>\n",
              "      <td>0.709859</td>\n",
              "      <td>01:50</td>\n",
              "    </tr>\n",
              "  </tbody>\n",
              "</table>"
            ],
            "text/plain": [
              "<IPython.core.display.HTML object>"
            ]
          },
          "metadata": {
            "tags": []
          }
        }
      ]
    },
    {
      "metadata": {
        "id": "Eb0hJf8TWmlk",
        "colab_type": "code",
        "colab": {
          "base_uri": "https://localhost:8080/",
          "height": 104
        },
        "outputId": "cd22d993-854e-4ca3-c3ad-73d17ba4c30c"
      },
      "cell_type": "code",
      "source": [
        "learn.fit_one_cycle(1, 1e-2)"
      ],
      "execution_count": 67,
      "outputs": [
        {
          "output_type": "display_data",
          "data": {
            "text/html": [
              "Total time: 01:55 <p><table border=\"1\" class=\"dataframe\">\n",
              "  <thead>\n",
              "    <tr style=\"text-align: left;\">\n",
              "      <th>epoch</th>\n",
              "      <th>train_loss</th>\n",
              "      <th>valid_loss</th>\n",
              "      <th>accuracy</th>\n",
              "      <th>time</th>\n",
              "    </tr>\n",
              "  </thead>\n",
              "  <tbody>\n",
              "    <tr>\n",
              "      <td>0</td>\n",
              "      <td>0.622744</td>\n",
              "      <td>117.193932</td>\n",
              "      <td>0.718116</td>\n",
              "      <td>01:55</td>\n",
              "    </tr>\n",
              "  </tbody>\n",
              "</table>"
            ],
            "text/plain": [
              "<IPython.core.display.HTML object>"
            ]
          },
          "metadata": {
            "tags": []
          }
        }
      ]
    },
    {
      "metadata": {
        "id": "84bVwJ8YXQBI",
        "colab_type": "code",
        "colab": {
          "base_uri": "https://localhost:8080/",
          "height": 230
        },
        "outputId": "49b07d36-6daf-4b03-ee48-bb3c2346b5b8"
      },
      "cell_type": "code",
      "source": [
        "learn.fit_one_cycle(5, 1e-2)"
      ],
      "execution_count": 68,
      "outputs": [
        {
          "output_type": "display_data",
          "data": {
            "text/html": [
              "Total time: 09:40 <p><table border=\"1\" class=\"dataframe\">\n",
              "  <thead>\n",
              "    <tr style=\"text-align: left;\">\n",
              "      <th>epoch</th>\n",
              "      <th>train_loss</th>\n",
              "      <th>valid_loss</th>\n",
              "      <th>accuracy</th>\n",
              "      <th>time</th>\n",
              "    </tr>\n",
              "  </thead>\n",
              "  <tbody>\n",
              "    <tr>\n",
              "      <td>0</td>\n",
              "      <td>0.624752</td>\n",
              "      <td>1.852859</td>\n",
              "      <td>0.714238</td>\n",
              "      <td>01:55</td>\n",
              "    </tr>\n",
              "    <tr>\n",
              "      <td>1</td>\n",
              "      <td>0.622044</td>\n",
              "      <td>44.383568</td>\n",
              "      <td>0.710231</td>\n",
              "      <td>01:55</td>\n",
              "    </tr>\n",
              "    <tr>\n",
              "      <td>2</td>\n",
              "      <td>0.627705</td>\n",
              "      <td>40.521015</td>\n",
              "      <td>0.711976</td>\n",
              "      <td>01:56</td>\n",
              "    </tr>\n",
              "    <tr>\n",
              "      <td>3</td>\n",
              "      <td>0.621995</td>\n",
              "      <td>15.296735</td>\n",
              "      <td>0.721410</td>\n",
              "      <td>01:56</td>\n",
              "    </tr>\n",
              "    <tr>\n",
              "      <td>4</td>\n",
              "      <td>0.602715</td>\n",
              "      <td>97.365074</td>\n",
              "      <td>0.722139</td>\n",
              "      <td>01:55</td>\n",
              "    </tr>\n",
              "  </tbody>\n",
              "</table>"
            ],
            "text/plain": [
              "<IPython.core.display.HTML object>"
            ]
          },
          "metadata": {
            "tags": []
          }
        }
      ]
    },
    {
      "metadata": {
        "id": "nctr10V1Z3aP",
        "colab_type": "code",
        "colab": {
          "base_uri": "https://localhost:8080/",
          "height": 35
        },
        "outputId": "864c8eef-dbc4-4c3b-ac19-c8857716490d"
      },
      "cell_type": "code",
      "source": [
        "learn.lr_find()"
      ],
      "execution_count": 69,
      "outputs": [
        {
          "output_type": "display_data",
          "data": {
            "text/html": [
              ""
            ],
            "text/plain": [
              "<IPython.core.display.HTML object>"
            ]
          },
          "metadata": {
            "tags": []
          }
        },
        {
          "output_type": "stream",
          "text": [
            "LR Finder is complete, type {learner_name}.recorder.plot() to see the graph.\n"
          ],
          "name": "stdout"
        }
      ]
    },
    {
      "metadata": {
        "id": "ICLYc_heaBbA",
        "colab_type": "code",
        "colab": {
          "base_uri": "https://localhost:8080/",
          "height": 361
        },
        "outputId": "6d6f285d-d187-4b70-bfa1-25fc39ac384f"
      },
      "cell_type": "code",
      "source": [
        "learn.recorder.plot()"
      ],
      "execution_count": 70,
      "outputs": [
        {
          "output_type": "display_data",
          "data": {
            "image/png": "[encoded data removed]",
            "text/plain": [
              "<Figure size 576x396 with 1 Axes>"
            ]
          },
          "metadata": {
            "tags": []
          }
        }
      ]
    },
    {
      "metadata": {
        "id": "IO8i8CjMaD8u",
        "colab_type": "code",
        "colab": {}
      },
      "cell_type": "code",
      "source": [
        "learn.unfreeze()"
      ],
      "execution_count": 0,
      "outputs": []
    },
    {
      "metadata": {
        "id": "dxqESVv0a0WF",
        "colab_type": "code",
        "colab": {
          "base_uri": "https://localhost:8080/",
          "height": 135
        },
        "outputId": "83da84e7-a320-4a6a-ba47-091178c7c226"
      },
      "cell_type": "code",
      "source": [
        "learn.fit_one_cycle(2)"
      ],
      "execution_count": 72,
      "outputs": [
        {
          "output_type": "display_data",
          "data": {
            "text/html": [
              "Total time: 03:52 <p><table border=\"1\" class=\"dataframe\">\n",
              "  <thead>\n",
              "    <tr style=\"text-align: left;\">\n",
              "      <th>epoch</th>\n",
              "      <th>train_loss</th>\n",
              "      <th>valid_loss</th>\n",
              "      <th>accuracy</th>\n",
              "      <th>time</th>\n",
              "    </tr>\n",
              "  </thead>\n",
              "  <tbody>\n",
              "    <tr>\n",
              "      <td>0</td>\n",
              "      <td>0.622653</td>\n",
              "      <td>26.474297</td>\n",
              "      <td>0.720135</td>\n",
              "      <td>01:55</td>\n",
              "    </tr>\n",
              "    <tr>\n",
              "      <td>1</td>\n",
              "      <td>0.602241</td>\n",
              "      <td>6.567338</td>\n",
              "      <td>0.724165</td>\n",
              "      <td>01:56</td>\n",
              "    </tr>\n",
              "  </tbody>\n",
              "</table>"
            ],
            "text/plain": [
              "<IPython.core.display.HTML object>"
            ]
          },
          "metadata": {
            "tags": []
          }
        }
      ]
    },
    {
      "metadata": {
        "id": "-qv0fe6Wa3vz",
        "colab_type": "code",
        "colab": {
          "base_uri": "https://localhost:8080/",
          "height": 135
        },
        "outputId": "25f9b8cd-fadf-4cb8-d52e-4dc4e1388fbc"
      },
      "cell_type": "code",
      "source": [
        "learn.fit_one_cycle(2,1e-3)"
      ],
      "execution_count": 76,
      "outputs": [
        {
          "output_type": "display_data",
          "data": {
            "text/html": [
              "Total time: 03:53 <p><table border=\"1\" class=\"dataframe\">\n",
              "  <thead>\n",
              "    <tr style=\"text-align: left;\">\n",
              "      <th>epoch</th>\n",
              "      <th>train_loss</th>\n",
              "      <th>valid_loss</th>\n",
              "      <th>accuracy</th>\n",
              "      <th>time</th>\n",
              "    </tr>\n",
              "  </thead>\n",
              "  <tbody>\n",
              "    <tr>\n",
              "      <td>0</td>\n",
              "      <td>0.600907</td>\n",
              "      <td>21.059917</td>\n",
              "      <td>0.723535</td>\n",
              "      <td>01:56</td>\n",
              "    </tr>\n",
              "    <tr>\n",
              "      <td>1</td>\n",
              "      <td>0.602287</td>\n",
              "      <td>9.526824</td>\n",
              "      <td>0.724218</td>\n",
              "      <td>01:56</td>\n",
              "    </tr>\n",
              "  </tbody>\n",
              "</table>"
            ],
            "text/plain": [
              "<IPython.core.display.HTML object>"
            ]
          },
          "metadata": {
            "tags": []
          }
        }
      ]
    },
    {
      "metadata": {
        "id": "TnK1NSpccJq5",
        "colab_type": "code",
        "colab": {}
      },
      "cell_type": "code",
      "source": [
        "\n"
      ],
      "execution_count": 0,
      "outputs": []
    }
  ]
}